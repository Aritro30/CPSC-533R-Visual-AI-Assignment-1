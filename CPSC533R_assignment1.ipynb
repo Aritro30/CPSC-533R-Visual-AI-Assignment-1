{
  "cells": [
    {
      "cell_type": "markdown",
      "metadata": {
        "id": "view-in-github",
        "colab_type": "text"
      },
      "source": [
        "<a href=\"https://colab.research.google.com/github/Aritro30/CPSC533R_Assignment_1/blob/main/CPSC533R_assignment1.ipynb\" target=\"_parent\"><img src=\"https://colab.research.google.com/assets/colab-badge.svg\" alt=\"Open In Colab\"/></a>"
      ]
    },
    {
      "cell_type": "markdown",
      "metadata": {
        "id": "rCSryVzUa4PX"
      },
      "source": [
        "# CPSC 533R Visual AI - Assignment 1"
      ]
    },
    {
      "cell_type": "markdown",
      "source": [
        "Task I-III"
      ],
      "metadata": {
        "id": "nZ-XCWvCOVXj"
      }
    },
    {
      "cell_type": "code",
      "execution_count": null,
      "metadata": {
        "id": "aEKeTm9xa4Ph"
      },
      "outputs": [],
      "source": [
        "# Install environment according to the readme.md or use google colab"
      ]
    },
    {
      "cell_type": "code",
      "execution_count": 1,
      "metadata": {
        "colab": {
          "base_uri": "https://localhost:8080/"
        },
        "id": "8qjfxu39a4Pk",
        "outputId": "ea0176f4-74c3-4cd0-b109-cd1cd2bf2783"
      },
      "outputs": [
        {
          "output_type": "stream",
          "name": "stdout",
          "text": [
            "Running on torch.__version__ =  1.11.0+cu113\n"
          ]
        }
      ],
      "source": [
        "# import standard PyTorch modules\n",
        "import torch\n",
        "import torch.nn as nn\n",
        "import torch.optim as optim\n",
        "\n",
        "# import torchvision module to handle image manipulation\n",
        "import torchvision\n",
        "import torchvision.transforms as transforms\n",
        "print(\"Running on torch.__version__ = \", torch.__version__)"
      ]
    },
    {
      "cell_type": "code",
      "execution_count": null,
      "metadata": {
        "id": "2979oLYZa4Pm"
      },
      "outputs": [],
      "source": [
        "# Use standard FashionMNIST dataset\n",
        "\n",
        "# helper function to make gray-scale images the same shape as color images\n",
        "def gray_to_color(x):\n",
        "    return x.repeat(3, 1, 1)\n",
        "\n",
        "# select the MNIST or FashionMNIST dataset\n",
        "#train_set = torchvision.datasets.FashionMNIST(\n",
        "train_set = torchvision.datasets.MNIST(\n",
        "    root = './DatasetMNIST',\n",
        "    train = True,\n",
        "    download = True,\n",
        "    transform = transforms.Compose([\n",
        "        transforms.ToTensor(),\n",
        "        gray_to_color,\n",
        "    ])\n",
        ")\n",
        "\n",
        "train_set = FDataset()\n",
        "loader = torch.utils.data.DataLoader(train_set, batch_size = 8, num_workers=0)\n"
      ]
    },
    {
      "cell_type": "code",
      "source": [
        "class FDataset(Dataset):\n",
        "    def __init__(self):\n",
        "        self.train_set = torchvision.datasets.MNIST(\n",
        "    root = './DatasetMNIST',\n",
        "    train = True,\n",
        "    download = True,\n",
        "    transform = transforms.Compose([\n",
        "        transforms.ToTensor(),\n",
        "        gray_to_color,\n",
        "    ])\n",
        ")\n",
        "    def __len__(self):\n",
        "        return len(self.train_set)\n",
        "\n",
        "    def __getitem__(self, idx):\n",
        "        dict = {}\n",
        "        dict[\"img\"] = self.train_set[idx][0] \n",
        "        dict[\"class\"] = torch.tensor(self.train_set[idx][1])\n",
        "        return dict"
      ],
      "metadata": {
        "id": "y1v3h9b1vG8B"
      },
      "execution_count": null,
      "outputs": []
    },
    {
      "cell_type": "code",
      "source": [
        "class NeuralNetwork(nn.Module):\n",
        "    def __init__(self):\n",
        "        super(NeuralNetwork, self).__init__()\n",
        "        self.flatten = nn.Flatten()\n",
        "        self.linear_relu_stack = nn.Sequential(\n",
        "            nn.Linear(2352, 512),\n",
        "            nn.ReLU(),\n",
        "            nn.Linear(512, 512),\n",
        "            nn.ReLU(),\n",
        "            nn.Linear(512, 10),\n",
        "        )\n",
        "\n",
        "    def forward(self, input_dict):\n",
        "        dict = {}\n",
        "        img = input_dict\n",
        "        x = self.flatten(img)\n",
        "        output_class = self.linear_relu_stack(x)\n",
        "        dict[\"class\"] = output_class\n",
        "        return dict"
      ],
      "metadata": {
        "id": "Hz55GuXB7_yU"
      },
      "execution_count": null,
      "outputs": []
    },
    {
      "cell_type": "code",
      "source": [
        "model = NeuralNetwork()\n"
      ],
      "metadata": {
        "id": "ZWQpajay8jJC"
      },
      "execution_count": null,
      "outputs": []
    },
    {
      "cell_type": "code",
      "source": [
        "# training loop\n",
        "losses = []\n",
        "iterator = iter(loader)\n",
        "optimizer = optim.SGD(network.parameters(), lr=0.001)\n",
        "\n",
        "for i in range(200): #range(len(loader)):\n",
        "    batch = next(iterator)\n",
        "    preds = model(batch[\"img\"])[\"class\"]\n",
        "    loss = nn.functional.cross_entropy(preds, batch[\"class\"])\n",
        "\n",
        "    optimizer.zero_grad()\n",
        "    loss.backward()\n",
        "    optimizer.step()\n",
        "    losses.append(loss.item())\n",
        "    if i%10==0:\n",
        "        print(i,losses[-1])"
      ],
      "metadata": {
        "colab": {
          "base_uri": "https://localhost:8080/"
        },
        "id": "-qeY8GXo-9h9",
        "outputId": "4de19666-f446-4dc1-e39a-54fe8f287c40"
      },
      "execution_count": null,
      "outputs": [
        {
          "output_type": "stream",
          "name": "stdout",
          "text": [
            "0 2.2981343269348145\n",
            "10 2.3184733390808105\n",
            "20 2.303462266921997\n",
            "30 2.3183681964874268\n",
            "40 2.3200600147247314\n",
            "50 2.291445732116699\n",
            "60 2.2813549041748047\n",
            "70 2.2962000370025635\n",
            "80 2.2997243404388428\n",
            "90 2.3008344173431396\n",
            "100 2.2930994033813477\n",
            "110 2.2937798500061035\n",
            "120 2.293713331222534\n",
            "130 2.302931547164917\n",
            "140 2.290647268295288\n",
            "150 2.3115055561065674\n",
            "160 2.280858278274536\n",
            "170 2.3101279735565186\n",
            "180 2.2891626358032227\n",
            "190 2.288738250732422\n"
          ]
        }
      ]
    },
    {
      "cell_type": "markdown",
      "source": [
        "Task IV-VII"
      ],
      "metadata": {
        "id": "W930psIfcvyV"
      }
    },
    {
      "cell_type": "code",
      "source": [
        "import random \n",
        "class FDataset():\n",
        "    def __init__(self):\n",
        "        self.train_set = torchvision.datasets.MNIST(\n",
        "    root = './DatasetMNIST',\n",
        "    train = True,\n",
        "    download = True,\n",
        "    transform = transforms.Compose([\n",
        "        transforms.ToTensor(),\n",
        "        gray_to_color,\n",
        "    ])\n",
        ")\n",
        "    def __len__(self):\n",
        "        return len(self.train_set)\n",
        "\n",
        "    def __getitem__(self, idx1):\n",
        "        dict = {}\n",
        "        label = 0\n",
        "        idx2 = random. randint(0,100)\n",
        "        dict[\"img1\"] = self.train_set[idx1][0]\n",
        "        dict[\"img2\"] = self.train_set[idx2][0]\n",
        "        if self.train_set[idx1][1] == self.train_set[idx2][1]:\n",
        "          label = 1\n",
        "        dict[\"label\"] = label\n",
        "        return dict"
      ],
      "metadata": {
        "id": "waVKzqTuc_I1"
      },
      "execution_count": 5,
      "outputs": []
    },
    {
      "cell_type": "code",
      "execution_count": 6,
      "metadata": {
        "id": "12jc2Ib-c_Iy"
      },
      "outputs": [],
      "source": [
        "training_set = FDataset()\n",
        "train_set, val_set = torch.utils.data.random_split(training_set, [int(80*len(training_set)/100), int(20*len(training_set)/100)])\n",
        "train_loader = torch.utils.data.DataLoader(train_set, batch_size = 10, num_workers=0)\n",
        "val_loader = torch.utils.data.DataLoader(val_set, batch_size = 10, num_workers=0)"
      ]
    },
    {
      "cell_type": "code",
      "source": [
        "class NeuralNetwork(nn.Module):\n",
        "    def __init__(self):\n",
        "        super(NeuralNetwork, self).__init__()\n",
        "        self.flatten = nn.Flatten()\n",
        "        self.linear_relu_stack = nn.Sequential(\n",
        "            nn.Linear(2352*2, 512),\n",
        "            nn.ReLU(),\n",
        "            nn.Linear(512, 512),\n",
        "            nn.ReLU(),\n",
        "            nn.Linear(512, 2),\n",
        "        )\n",
        "\n",
        "    def forward(self, img1, img2):\n",
        "        dict = {}\n",
        "        x1 = self.flatten(img1)\n",
        "        x2 = self.flatten(img2)\n",
        "        x = torch.cat((x1,x2),1) \n",
        "        output_class = self.linear_relu_stack(x)\n",
        "        dict[\"label\"] = output_class\n",
        "        return dict"
      ],
      "metadata": {
        "id": "TUPuypihc_I3"
      },
      "execution_count": 7,
      "outputs": []
    },
    {
      "cell_type": "code",
      "source": [
        "model = NeuralNetwork()\n"
      ],
      "metadata": {
        "id": "QptST92Ic_I4"
      },
      "execution_count": 8,
      "outputs": []
    },
    {
      "cell_type": "code",
      "source": [
        "def calc_accuracy(preds,label):\n",
        "  return len(label)-torch.sum(torch.abs(label - torch.max((preds),1)[1])), len(label)\n",
        "  #return ((100*(len(label)-torch.sum(torch.abs(label - torch.max((preds),1)[1])))/len(label)).item())\n",
        "  \n",
        "\n",
        "epochs = 5\n",
        "for epoch in range(epochs):\n",
        "  # training loop\n",
        "  losses = []\n",
        "  iterator1 = iter(train_loader)\n",
        "  iterator2 = iter(val_loader)\n",
        "  # print(len(val_loader))\n",
        "  # raise Exception()\n",
        "  optimizer = optim.SGD(model.parameters(), lr=0.001)\n",
        "  #for i in range(1):\n",
        "  \n",
        "  for k in range(len(train_loader)): #range(len(loader)):\n",
        "      #print(k)\n",
        "      #raise Exception()\n",
        "      batch = next(iterator1)\n",
        "      preds = model(batch[\"img1\"],batch[\"img2\"])[\"label\"]\n",
        "      loss = nn.functional.cross_entropy(preds, batch[\"label\"])\n",
        "      optimizer.zero_grad()\n",
        "      loss.backward()\n",
        "      optimizer.step()\n",
        "      losses.append(loss.item())\n",
        "      # if i%100==0:\n",
        "      #     print(i,losses[-1])\n",
        "  total_cor, total_bat = 0,0\n",
        "  #for j in range(1):\n",
        "  for j in range(len(val_loader)): #range(len(loader)):\n",
        "      batch_val = next(iterator2)\n",
        "      preds_val = model(batch_val[\"img1\"],batch_val[\"img2\"])[\"label\"]\n",
        "      \n",
        "      cor, bat = calc_accuracy(preds_val,batch_val[\"label\"])\n",
        "      total_cor+=cor\n",
        "      total_bat+=bat\n",
        "  print(\"Validation Accuracy:\",100*total_cor/total_bat)\n",
        "  print(\"----------------\")    \n"
      ],
      "metadata": {
        "colab": {
          "base_uri": "https://localhost:8080/"
        },
        "outputId": "539901bf-2f35-4910-8310-3b9bddbcfff2",
        "id": "s3lkulurc_I5"
      },
      "execution_count": null,
      "outputs": [
        {
          "output_type": "stream",
          "name": "stdout",
          "text": [
            "Validation Accuracy: tensor(92.9333)\n",
            "----------------\n",
            "Validation Accuracy: tensor(94.1500)\n",
            "----------------\n",
            "Validation Accuracy: tensor(94.8500)\n",
            "----------------\n",
            "Validation Accuracy: tensor(96.3417)\n",
            "----------------\n",
            "Validation Accuracy: tensor(96.3000)\n",
            "----------------\n"
          ]
        }
      ]
    },
    {
      "cell_type": "markdown",
      "source": [
        "Task VIII-X"
      ],
      "metadata": {
        "id": "lPAR9dHjOlz8"
      }
    },
    {
      "cell_type": "code",
      "source": [
        "import matplotlib.pyplot as plt\n",
        "batch_size = 10\n",
        "def visualize_batch(batch, preds):\n",
        "  print(preds.shape)\n",
        "  classes = (torch.argmax(preds, dim=1))\n",
        "  for i in range(batch_size):\n",
        "    plt.imshow(batch['img1'][i].permute(1, 2, 0) )\n",
        "    plt.show()\n",
        "    plt.imshow(batch['img2'][i].permute(1, 2, 0) )\n",
        "    plt.show()\n",
        "    print(classes[i].item())\n",
        "    print(\"-------------------------------\")"
      ],
      "metadata": {
        "id": "2hY-VnS54_Ud"
      },
      "execution_count": 21,
      "outputs": []
    },
    {
      "cell_type": "code",
      "source": [
        "def calc_accuracy(preds,label):\n",
        "  return len(label)-torch.sum(torch.abs(label - torch.max((preds),1)[1])), len(label)\n",
        "  #return ((100*(len(label)-torch.sum(torch.abs(label - torch.max((preds),1)[1])))/len(label)).item())\n",
        "  \n",
        "\n",
        "epochs = 2\n",
        "for epoch in range(epochs):\n",
        "  # training loop\n",
        "  losses = []\n",
        "  iterator1 = iter(train_loader)\n",
        "  iterator2 = iter(val_loader)\n",
        "  # print(len(val_loader))\n",
        "  # raise Exception()\n",
        "  optimizer = optim.SGD(model.parameters(), lr=0.001)\n",
        "  #for i in range(1):\n",
        "  \n",
        "  for k in range(len(train_loader)): #range(len(loader)):\n",
        "      batch = next(iterator1)\n",
        "      preds = model(batch[\"img1\"],batch[\"img2\"])[\"label\"]\n",
        "      loss = nn.functional.cross_entropy(preds, batch[\"label\"])\n",
        "      optimizer.zero_grad()\n",
        "      loss.backward()\n",
        "      optimizer.step()\n",
        "      losses.append(loss.item())\n",
        "      if epoch == 1 and k == 100:\n",
        "        visualize_batch(batch, preds)\n",
        "      # if i%100==0:\n",
        "      #     print(i,losses[-1])\n",
        "  total_cor, total_bat = 0,0\n",
        "  #for j in range(1):\n",
        "  for j in range(len(val_loader)): #range(len(loader)):\n",
        "      batch_val = next(iterator2)\n",
        "      preds_val = model(batch_val[\"img1\"],batch_val[\"img2\"])[\"label\"]\n",
        "      \n",
        "      cor, bat = calc_accuracy(preds_val,batch_val[\"label\"])\n",
        "      total_cor+=cor\n",
        "      total_bat+=bat\n",
        "      if epoch == 1 and j == 100:\n",
        "        visualize_batch(batch_val, preds_val)\n",
        "  print(\"Validation Accuracy:\",100*total_cor/total_bat)\n",
        "  print(\"----------------\")    \n"
      ],
      "metadata": {
        "colab": {
          "base_uri": "https://localhost:8080/",
          "height": 1000
        },
        "id": "Y6_jcL3t4lus",
        "outputId": "0dfea9d2-b23d-49a0-983e-967f5af8623e"
      },
      "execution_count": 22,
      "outputs": [
        {
          "output_type": "stream",
          "name": "stdout",
          "text": [
            "Validation Accuracy: tensor(94.6417)\n",
            "----------------\n",
            "torch.Size([10, 2])\n"
          ]
        },
        {
          "output_type": "display_data",
          "data": {
            "text/plain": [
              "<Figure size 432x288 with 1 Axes>"
            ],
            "image/png": "[encoded data removed]"
          },
          "metadata": {
            "needs_background": "light"
          }
        },
        {
          "output_type": "display_data",
          "data": {
            "text/plain": [
              "<Figure size 432x288 with 1 Axes>"
            ],
            "image/png": "[encoded data removed]"
          },
          "metadata": {
            "needs_background": "light"
          }
        },
        {
          "output_type": "stream",
          "name": "stdout",
          "text": [
            "0\n",
            "-------------------------------\n"
          ]
        },
        {
          "output_type": "display_data",
          "data": {
            "text/plain": [
              "<Figure size 432x288 with 1 Axes>"
            ],
            "image/png": "[encoded data removed]"
          },
          "metadata": {
            "needs_background": "light"
          }
        },
        {
          "output_type": "display_data",
          "data": {
            "text/plain": [
              "<Figure size 432x288 with 1 Axes>"
            ],
            "image/png": "[encoded data removed]"
          },
          "metadata": {
            "needs_background": "light"
          }
        },
        {
          "output_type": "stream",
          "name": "stdout",
          "text": [
            "0\n",
            "-------------------------------\n"
          ]
        },
        {
          "output_type": "display_data",
          "data": {
            "text/plain": [
              "<Figure size 432x288 with 1 Axes>"
            ],
            "image/png": "[encoded data removed]"
          },
          "metadata": {
            "needs_background": "light"
          }
        },
        {
          "output_type": "display_data",
          "data": {
            "text/plain": [
              "<Figure size 432x288 with 1 Axes>"
            ],
            "image/png": "[encoded data removed]"
          },
          "metadata": {
            "needs_background": "light"
          }
        },
        {
          "output_type": "stream",
          "name": "stdout",
          "text": [
            "0\n",
            "-------------------------------\n"
          ]
        },
        {
          "output_type": "display_data",
          "data": {
            "text/plain": [
              "<Figure size 432x288 with 1 Axes>"
            ],
            "image/png": "[encoded data removed]"
          },
          "metadata": {
            "needs_background": "light"
          }
        },
        {
          "output_type": "display_data",
          "data": {
            "text/plain": [
              "<Figure size 432x288 with 1 Axes>"
            ],
            "image/png": "[encoded data removed]"
          },
          "metadata": {
            "needs_background": "light"
          }
        },
        {
          "output_type": "stream",
          "name": "stdout",
          "text": [
            "0\n",
            "-------------------------------\n"
          ]
        },
        {
          "output_type": "display_data",
          "data": {
            "text/plain": [
              "<Figure size 432x288 with 1 Axes>"
            ],
            "image/png": "[encoded data removed]"
          },
          "metadata": {
            "needs_background": "light"
          }
        },
        {
          "output_type": "display_data",
          "data": {
            "text/plain": [
              "<Figure size 432x288 with 1 Axes>"
            ],
            "image/png": "[encoded data removed]"
          },
          "metadata": {
            "needs_background": "light"
          }
        },
        {
          "output_type": "stream",
          "name": "stdout",
          "text": [
            "0\n",
            "-------------------------------\n"
          ]
        },
        {
          "output_type": "display_data",
          "data": {
            "text/plain": [
              "<Figure size 432x288 with 1 Axes>"
            ],
            "image/png": "[encoded data removed]"
          },
          "metadata": {
            "needs_background": "light"
          }
        },
        {
          "output_type": "display_data",
          "data": {
            "text/plain": [
              "<Figure size 432x288 with 1 Axes>"
            ],
            "image/png": "[encoded data removed]"
          },
          "metadata": {
            "needs_background": "light"
          }
        },
        {
          "output_type": "stream",
          "name": "stdout",
          "text": [
            "0\n",
            "-------------------------------\n"
          ]
        },
        {
          "output_type": "display_data",
          "data": {
            "text/plain": [
              "<Figure size 432x288 with 1 Axes>"
            ],
            "image/png": "[encoded data removed]"
          },
          "metadata": {
            "needs_background": "light"
          }
        },
        {
          "output_type": "display_data",
          "data": {
            "text/plain": [
              "<Figure size 432x288 with 1 Axes>"
            ],
            "image/png": "[encoded data removed]"
          },
          "metadata": {
            "needs_background": "light"
          }
        },
        {
          "output_type": "stream",
          "name": "stdout",
          "text": [
            "0\n",
            "-------------------------------\n"
          ]
        },
        {
          "output_type": "display_data",
          "data": {
            "text/plain": [
              "<Figure size 432x288 with 1 Axes>"
            ],
            "image/png": "[encoded data removed]"
          },
          "metadata": {
            "needs_background": "light"
          }
        },
        {
          "output_type": "display_data",
          "data": {
            "text/plain": [
              "<Figure size 432x288 with 1 Axes>"
            ],
            "image/png": "[encoded data removed]"
          },
          "metadata": {
            "needs_background": "light"
          }
        },
        {
          "output_type": "stream",
          "name": "stdout",
          "text": [
            "0\n",
            "-------------------------------\n"
          ]
        },
        {
          "output_type": "display_data",
          "data": {
            "text/plain": [
              "<Figure size 432x288 with 1 Axes>"
            ],
            "image/png": "[encoded data removed]"
          },
          "metadata": {
            "needs_background": "light"
          }
        },
        {
          "output_type": "display_data",
          "data": {
            "text/plain": [
              "<Figure size 432x288 with 1 Axes>"
            ],
            "image/png": "[encoded data removed]"
          },
          "metadata": {
            "needs_background": "light"
          }
        },
        {
          "output_type": "stream",
          "name": "stdout",
          "text": [
            "0\n",
            "-------------------------------\n"
          ]
        },
        {
          "output_type": "display_data",
          "data": {
            "text/plain": [
              "<Figure size 432x288 with 1 Axes>"
            ],
            "image/png": "[encoded data removed]"
          },
          "metadata": {
            "needs_background": "light"
          }
        },
        {
          "output_type": "display_data",
          "data": {
            "text/plain": [
              "<Figure size 432x288 with 1 Axes>"
            ],
            "image/png": "[encoded data removed]"
          },
          "metadata": {
            "needs_background": "light"
          }
        },
        {
          "output_type": "stream",
          "name": "stdout",
          "text": [
            "1\n",
            "-------------------------------\n",
            "torch.Size([10, 2])\n"
          ]
        },
        {
          "output_type": "display_data",
          "data": {
            "text/plain": [
              "<Figure size 432x288 with 1 Axes>"
            ],
            "image/png": "[encoded data removed]"
          },
          "metadata": {
            "needs_background": "light"
          }
        },
        {
          "output_type": "display_data",
          "data": {
            "text/plain": [
              "<Figure size 432x288 with 1 Axes>"
            ],
            "image/png": "[encoded data removed]"
          },
          "metadata": {
            "needs_background": "light"
          }
        },
        {
          "output_type": "stream",
          "name": "stdout",
          "text": [
            "0\n",
            "-------------------------------\n"
          ]
        },
        {
          "output_type": "display_data",
          "data": {
            "text/plain": [
              "<Figure size 432x288 with 1 Axes>"
            ],
            "image/png": "[encoded data removed]"
          },
          "metadata": {
            "needs_background": "light"
          }
        },
        {
          "output_type": "display_data",
          "data": {
            "text/plain": [
              "<Figure size 432x288 with 1 Axes>"
            ],
            "image/png": "[encoded data removed]"
          },
          "metadata": {
            "needs_background": "light"
          }
        },
        {
          "output_type": "stream",
          "name": "stdout",
          "text": [
            "0\n",
            "-------------------------------\n"
          ]
        },
        {
          "output_type": "display_data",
          "data": {
            "text/plain": [
              "<Figure size 432x288 with 1 Axes>"
            ],
            "image/png": "[encoded data removed]"
          },
          "metadata": {
            "needs_background": "light"
          }
        },
        {
          "output_type": "display_data",
          "data": {
            "text/plain": [
              "<Figure size 432x288 with 1 Axes>"
            ],
            "image/png": "[encoded data removed]"
          },
          "metadata": {
            "needs_background": "light"
          }
        },
        {
          "output_type": "stream",
          "name": "stdout",
          "text": [
            "0\n",
            "-------------------------------\n"
          ]
        },
        {
          "output_type": "display_data",
          "data": {
            "text/plain": [
              "<Figure size 432x288 with 1 Axes>"
            ],
            "image/png": "[encoded data removed]"
          },
          "metadata": {
            "needs_background": "light"
          }
        },
        {
          "output_type": "display_data",
          "data": {
            "text/plain": [
              "<Figure size 432x288 with 1 Axes>"
            ],
            "image/png": "[encoded data removed]"
          },
          "metadata": {
            "needs_background": "light"
          }
        },
        {
          "output_type": "stream",
          "name": "stdout",
          "text": [
            "1\n",
            "-------------------------------\n"
          ]
        },
        {
          "output_type": "display_data",
          "data": {
            "text/plain": [
              "<Figure size 432x288 with 1 Axes>"
            ],
            "image/png": "[encoded data removed]"
          },
          "metadata": {
            "needs_background": "light"
          }
        },
        {
          "output_type": "display_data",
          "data": {
            "text/plain": [
              "<Figure size 432x288 with 1 Axes>"
            ],
            "image/png": "[encoded data removed]"
          },
          "metadata": {
            "needs_background": "light"
          }
        },
        {
          "output_type": "stream",
          "name": "stdout",
          "text": [
            "0\n",
            "-------------------------------\n"
          ]
        },
        {
          "output_type": "display_data",
          "data": {
            "text/plain": [
              "<Figure size 432x288 with 1 Axes>"
            ],
            "image/png": "[encoded data removed]"
          },
          "metadata": {
            "needs_background": "light"
          }
        },
        {
          "output_type": "display_data",
          "data": {
            "text/plain": [
              "<Figure size 432x288 with 1 Axes>"
            ],
            "image/png": "[encoded data removed]"
          },
          "metadata": {
            "needs_background": "light"
          }
        },
        {
          "output_type": "stream",
          "name": "stdout",
          "text": [
            "0\n",
            "-------------------------------\n"
          ]
        },
        {
          "output_type": "display_data",
          "data": {
            "text/plain": [
              "<Figure size 432x288 with 1 Axes>"
            ],
            "image/png": "[encoded data removed]"
          },
          "metadata": {
            "needs_background": "light"
          }
        },
        {
          "output_type": "display_data",
          "data": {
            "text/plain": [
              "<Figure size 432x288 with 1 Axes>"
            ],
            "image/png": "[encoded data removed]"
          },
          "metadata": {
            "needs_background": "light"
          }
        },
        {
          "output_type": "stream",
          "name": "stdout",
          "text": [
            "0\n",
            "-------------------------------\n"
          ]
        },
        {
          "output_type": "display_data",
          "data": {
            "text/plain": [
              "<Figure size 432x288 with 1 Axes>"
            ],
            "image/png": "[encoded data removed]"
          },
          "metadata": {
            "needs_background": "light"
          }
        },
        {
          "output_type": "display_data",
          "data": {
            "text/plain": [
              "<Figure size 432x288 with 1 Axes>"
            ],
            "image/png": "[encoded data removed]"
          },
          "metadata": {
            "needs_background": "light"
          }
        },
        {
          "output_type": "stream",
          "name": "stdout",
          "text": [
            "1\n",
            "-------------------------------\n"
          ]
        },
        {
          "output_type": "display_data",
          "data": {
            "text/plain": [
              "<Figure size 432x288 with 1 Axes>"
            ],
            "image/png": "[encoded data removed]"
          },
          "metadata": {
            "needs_background": "light"
          }
        },
        {
          "output_type": "display_data",
          "data": {
            "text/plain": [
              "<Figure size 432x288 with 1 Axes>"
            ],
            "image/png": "[encoded data removed]"
          },
          "metadata": {
            "needs_background": "light"
          }
        },
        {
          "output_type": "stream",
          "name": "stdout",
          "text": [
            "0\n",
            "-------------------------------\n"
          ]
        },
        {
          "output_type": "display_data",
          "data": {
            "text/plain": [
              "<Figure size 432x288 with 1 Axes>"
            ],
            "image/png": "[encoded data removed]"
          },
          "metadata": {
            "needs_background": "light"
          }
        },
        {
          "output_type": "display_data",
          "data": {
            "text/plain": [
              "<Figure size 432x288 with 1 Axes>"
            ],
            "image/png": "[encoded data removed]"
          },
          "metadata": {
            "needs_background": "light"
          }
        },
        {
          "output_type": "stream",
          "name": "stdout",
          "text": [
            "0\n",
            "-------------------------------\n",
            "Validation Accuracy: tensor(95.3167)\n",
            "----------------\n"
          ]
        }
      ]
    },
    {
      "cell_type": "code",
      "source": [
        "import matplotlib.pyplot as plt\n",
        "def plot_graph_val(epoch, val_loss):\n",
        "    \n",
        "  plt.plot(epoch, val_loss)\n",
        "  plt.title('Validation Loss Vs Epochs')\n",
        "  plt.xlabel('Epoch')\n",
        "  plt.ylabel('Validation Loss')\n",
        "  plt.show()\n",
        "def plot_graph_train(epoch, train_loss):\n",
        "    \n",
        "  plt.plot(epoch, train_loss)\n",
        "  plt.title('Training Loss Vs Iterations')\n",
        "  plt.xlabel('Iterations')\n",
        "  plt.ylabel('Training Loss')\n",
        "  plt.show()"
      ],
      "metadata": {
        "id": "OwyAb0tvIfBN"
      },
      "execution_count": 27,
      "outputs": []
    },
    {
      "cell_type": "code",
      "source": [
        "def calc_accuracy(preds,label):\n",
        "  return len(label)-torch.sum(torch.abs(label - torch.max((preds),1)[1])), len(label)\n",
        "  #return ((100*(len(label)-torch.sum(torch.abs(label - torch.max((preds),1)[1])))/len(label)).item())\n",
        "  \n",
        "\n",
        "epochs = 10\n",
        "epoch_list = []\n",
        "iter_list = []\n",
        "val_loss = []\n",
        "train_loss = []\n",
        "count = 0\n",
        "for epoch in range(epochs):\n",
        "  # training loop\n",
        "  losses = []\n",
        "  iterator1 = iter(train_loader)\n",
        "  iterator2 = iter(val_loader)\n",
        "  optimizer = optim.SGD(model.parameters(), lr=0.001)\n",
        "  for k in range(len(train_loader)): #range(len(loader)):\n",
        "      batch = next(iterator1)\n",
        "      preds = model(batch[\"img1\"],batch[\"img2\"])[\"label\"]\n",
        "      loss = nn.functional.cross_entropy(preds, batch[\"label\"])\n",
        "      optimizer.zero_grad()\n",
        "      loss.backward()\n",
        "      optimizer.step()\n",
        "      losses.append(loss.item())\n",
        "      train_loss.append(loss.item())\n",
        "      iter_list.append(count)\n",
        "      count+=1\n",
        "  v_loss_list = []\n",
        "  for j in range(len(val_loader)): #range(len(loader)):\n",
        "      batch_val = next(iterator2)\n",
        "      preds_val = model(batch_val[\"img1\"],batch_val[\"img2\"])[\"label\"]\n",
        "      v_loss = nn.functional.cross_entropy(preds_val, batch_val[\"label\"])\n",
        "      v_loss_list.append(v_loss.item())\n",
        "  val_loss.append(sum(v_loss_list)/len(v_loss_list))\n",
        "  epoch_list.append(epoch)\n",
        "\n",
        "plot_graph_val(epoch_list, val_loss)\n",
        "plot_graph_train(iter_list, train_loss)"
      ],
      "metadata": {
        "id": "X3gxhk-hIiNO"
      },
      "execution_count": null,
      "outputs": []
    }
  ],
  "metadata": {
    "kernelspec": {
      "display_name": "Python 3",
      "language": "python",
      "name": "python3"
    },
    "language_info": {
      "codemirror_mode": {
        "name": "ipython",
        "version": 3
      },
      "file_extension": ".py",
      "mimetype": "text/x-python",
      "name": "python",
      "nbconvert_exporter": "python",
      "pygments_lexer": "ipython3",
      "version": "3.7.11"
    },
    "colab": {
      "name": "CPSC533R_assignment1.ipynb",
      "provenance": [],
      "collapsed_sections": [],
      "include_colab_link": true
    }
  },
  "nbformat": 4,
  "nbformat_minor": 0
}